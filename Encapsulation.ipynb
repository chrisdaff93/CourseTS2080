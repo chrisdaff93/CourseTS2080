{
 "cells": [
  {
   "cell_type": "markdown",
   "id": "cbeceafe",
   "metadata": {},
   "source": [
    "# 1. 1 ENCAPSULATION"
   ]
  },
  {
   "cell_type": "code",
   "execution_count": 17,
   "id": "0a04ecea",
   "metadata": {},
   "outputs": [],
   "source": [
    "class Employee:\n",
    "    \n",
    "    # Constructor\n",
    "    def __init__(self, name, salary, project):\n",
    "        self.name = name\n",
    "        self.__salary = salary\n",
    "        self.project = project\n"
   ]
  },
  {
   "cell_type": "code",
   "execution_count": 6,
   "id": "82aee74d",
   "metadata": {},
   "outputs": [
    {
     "name": "stdout",
     "output_type": "stream",
     "text": [
      "Jessa\n",
      "8000\n",
      "NLP\n"
     ]
    }
   ],
   "source": [
    "emp = Employee('Jessa', 8000, 'NLP')\n",
    "\n",
    "# Calling public methods of the class\n",
    "print(emp.name)\n",
    "print(emp.salary)\n",
    "print(emp.project)"
   ]
  },
  {
   "cell_type": "markdown",
   "id": "e3fbb899",
   "metadata": {},
   "source": [
    "## 1.1.2 Private Member"
   ]
  },
  {
   "cell_type": "markdown",
   "id": "a944e93e",
   "metadata": {},
   "source": [
    "How to access private members from outside of a class:\n",
    "- Create a public method-function\n",
    "- Name mangling (legg til emp._Employee__salary)"
   ]
  },
  {
   "cell_type": "markdown",
   "id": "db3814ce",
   "metadata": {},
   "source": [
    "## 1.1.3 Protected Members"
   ]
  },
  {
   "cell_type": "code",
   "execution_count": 18,
   "id": "4e673bc4",
   "metadata": {},
   "outputs": [
    {
     "name": "stdout",
     "output_type": "stream",
     "text": [
      "Employee name:  Jessa\n",
      "Working on project:  NLP\n",
      "Project:  NLP\n"
     ]
    }
   ],
   "source": [
    "# Base class\n",
    "class Company:\n",
    "    def __init__(self):\n",
    "        self._project = \"NLP\"\n",
    "# Child class\n",
    "class Employee(Company):\n",
    "    def __init__(self, name):\n",
    "        self.name = name\n",
    "        Company.__init__(self)\n",
    "        \n",
    "    def show(self):\n",
    "        print(\"Employee name: \", self.name)\n",
    "        # Accessing protected member in child class\n",
    "        print(\"Working on project: \", self._project)\n",
    "        \n",
    "c = Employee(\"Jessa\")\n",
    "c.show()\n",
    "\n",
    "# Direct access protected data member\n",
    "print('Project: ', c._project)\n"
   ]
  },
  {
   "cell_type": "code",
   "execution_count": null,
   "id": "f94dd6d0",
   "metadata": {},
   "outputs": [],
   "source": []
  }
 ],
 "metadata": {
  "kernelspec": {
   "display_name": "Python 3 (ipykernel)",
   "language": "python",
   "name": "python3"
  },
  "language_info": {
   "codemirror_mode": {
    "name": "ipython",
    "version": 3
   },
   "file_extension": ".py",
   "mimetype": "text/x-python",
   "name": "python",
   "nbconvert_exporter": "python",
   "pygments_lexer": "ipython3",
   "version": "3.8.13"
  }
 },
 "nbformat": 4,
 "nbformat_minor": 5
}
