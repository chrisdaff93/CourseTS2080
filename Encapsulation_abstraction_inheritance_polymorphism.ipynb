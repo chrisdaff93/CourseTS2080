{
 "cells": [
  {
   "cell_type": "markdown",
   "id": "cbeceafe",
   "metadata": {},
   "source": [
    "# 1. 1 ENCAPSULATION"
   ]
  },
  {
   "cell_type": "code",
   "execution_count": 17,
   "id": "0a04ecea",
   "metadata": {},
   "outputs": [],
   "source": [
    "class Employee:\n",
    "    \n",
    "    # Constructor\n",
    "    def __init__(self, name, salary, project):\n",
    "        self.name = name\n",
    "        self.__salary = salary\n",
    "        self.project = project\n"
   ]
  },
  {
   "cell_type": "code",
   "execution_count": 6,
   "id": "82aee74d",
   "metadata": {},
   "outputs": [
    {
     "name": "stdout",
     "output_type": "stream",
     "text": [
      "Jessa\n",
      "8000\n",
      "NLP\n"
     ]
    }
   ],
   "source": [
    "emp = Employee('Jessa', 8000, 'NLP')\n",
    "\n",
    "# Calling public methods of the class\n",
    "print(emp.name)\n",
    "print(emp.salary)\n",
    "print(emp.project)"
   ]
  },
  {
   "cell_type": "markdown",
   "id": "e3fbb899",
   "metadata": {},
   "source": [
    "## 1.1.2 Private Member"
   ]
  },
  {
   "cell_type": "markdown",
   "id": "a944e93e",
   "metadata": {},
   "source": [
    "How to access private members from outside of a class:\n",
    "- Create a public method-function\n",
    "- Name mangling (legg til emp._Employee__salary)"
   ]
  },
  {
   "cell_type": "markdown",
   "id": "db3814ce",
   "metadata": {},
   "source": [
    "## 1.1.3 Protected Members"
   ]
  },
  {
   "cell_type": "code",
   "execution_count": 18,
   "id": "4e673bc4",
   "metadata": {},
   "outputs": [
    {
     "name": "stdout",
     "output_type": "stream",
     "text": [
      "Employee name:  Jessa\n",
      "Working on project:  NLP\n",
      "Project:  NLP\n"
     ]
    }
   ],
   "source": [
    "# Base class\n",
    "class Company:\n",
    "    def __init__(self):\n",
    "        self._project = \"NLP\"\n",
    "# Child class\n",
    "class Employee(Company):\n",
    "    def __init__(self, name):\n",
    "        self.name = name\n",
    "        Company.__init__(self)\n",
    "        \n",
    "    def show(self):\n",
    "        print(\"Employee name: \", self.name)\n",
    "        # Accessing protected member in child class\n",
    "        print(\"Working on project: \", self._project)\n",
    "        \n",
    "c = Employee(\"Jessa\")\n",
    "c.show()\n",
    "\n",
    "# Direct access protected data member\n",
    "print('Project: ', c._project)\n"
   ]
  },
  {
   "cell_type": "markdown",
   "id": "a4ced857",
   "metadata": {},
   "source": [
    "# 1. 2 ABSTRACTION"
   ]
  },
  {
   "cell_type": "code",
   "execution_count": 16,
   "id": "6dada095",
   "metadata": {},
   "outputs": [],
   "source": [
    "from abc import ABC,abstractmethod\n",
    "\n",
    "class Animal(ABC):\n",
    "\n",
    "    #concrete method\n",
    "    #inheritated\n",
    "    def sleep(self):\n",
    "        print(\"I am going to sleep in a while\")\n",
    "\n",
    "    @abstractmethod\n",
    "    def sound(self):\n",
    "        print(\"This function is for defining the sound by any animal\")\n",
    "\n",
    "class Snake(Animal):\n",
    "    def sound(self):\n",
    "        print(\"I can hiss\")\n",
    "\n",
    "class Dog(Animal):\n",
    "    def sound(self):\n",
    "        print(\"I can bark\")\n",
    "\n",
    "class Lion(Animal):\n",
    "    def sound(self):\n",
    "        print(\"I can roar\")\n",
    "\n",
    "class Cat(Animal):\n",
    "    def sound(self):\n",
    "        print(\"I can meow\")\n",
    "        \n",
    "class Beetle(Animal):\n",
    "    def sound(self):\n",
    "        pass\n"
   ]
  },
  {
   "cell_type": "code",
   "execution_count": 17,
   "id": "991641ad",
   "metadata": {},
   "outputs": [
    {
     "name": "stdout",
     "output_type": "stream",
     "text": [
      "I can meow\n",
      "I am going to sleep in a while\n",
      "I can roar\n",
      "I am going to sleep in a while\n"
     ]
    }
   ],
   "source": [
    "c = Cat()\n",
    "c.sound()\n",
    "c.sleep()\n",
    "\n",
    "c = Lion()\n",
    "c.sound()\n",
    "c.sleep()\n",
    "\n",
    "e = Beetle()\n",
    "e.sound()\n"
   ]
  },
  {
   "cell_type": "markdown",
   "id": "41e0b488",
   "metadata": {},
   "source": [
    "# 1. 3 INHERITANCE"
   ]
  },
  {
   "cell_type": "markdown",
   "id": "56e6bfde",
   "metadata": {},
   "source": [
    "## 1. 3. 1 Single member"
   ]
  },
  {
   "cell_type": "code",
   "execution_count": 18,
   "id": "5e1e93fe",
   "metadata": {},
   "outputs": [
    {
     "name": "stdout",
     "output_type": "stream",
     "text": [
      "Hello Parent\n",
      "Hello Child\n"
     ]
    }
   ],
   "source": [
    "#Single inheritance example\n",
    "\n",
    "#Parent class\n",
    "class parent:\n",
    "    def func1(self):\n",
    "        print(\"Hello Parent\")\n",
    "\n",
    "#Child class\n",
    "class child(parent):\n",
    "    def func2(self):\n",
    "        print(\"Hello Child\")\n",
    "\n",
    "#Object creation and function calls\n",
    "test = child()\n",
    "test.func1()\n",
    "test.func2()"
   ]
  },
  {
   "cell_type": "markdown",
   "id": "fa2c1997",
   "metadata": {},
   "source": [
    "## 1. 3. 2 Multiple members"
   ]
  },
  {
   "cell_type": "code",
   "execution_count": 39,
   "id": "229a026f",
   "metadata": {},
   "outputs": [
    {
     "name": "stdout",
     "output_type": "stream",
     "text": [
      "Hello parent1\n",
      "Hello parent2\n",
      "Hello Child\n",
      "(<class '__main__.child'>, <class '__main__.parent1'>, <class '__main__.parent2'>, <class '__main__.parent3'>, <class 'object'>)\n",
      "True\n",
      "False\n",
      "True\n"
     ]
    }
   ],
   "source": [
    "class parent1:\n",
    "    def func1(self):\n",
    "        print(\"Hello parent1\")\n",
    "        \n",
    "class parent2:\n",
    "    def func2(self):\n",
    "        print(\"Hello parent2\")\n",
    "        \n",
    "class parent3:\n",
    "    def func2(self):\n",
    "        print(\"Hello parent3\")\n",
    "        \n",
    "class child(parent1, parent2, parent3):\n",
    "    def func3(self):\n",
    "        print(\"Hello Child\")\n",
    "        \n",
    "confused_child = child()\n",
    "confused_child.func1()\n",
    "confused_child.func2()\n",
    "confused_child.func3()\n",
    "\n",
    "print(child.__mro__) #Find order of classes visited by child class\n",
    "print(issubclass(child, parent1)) #True\n",
    "print(issubclass(parent1, child)) #False\n",
    "print(isinstance(confused_child, parent1))\n"
   ]
  },
  {
   "cell_type": "markdown",
   "id": "ed9643d0",
   "metadata": {},
   "source": [
    "# 1. 4 POLYMORPHISM"
   ]
  },
  {
   "cell_type": "code",
   "execution_count": 49,
   "id": "bac13bae",
   "metadata": {},
   "outputs": [
    {
     "name": "stdout",
     "output_type": "stream",
     "text": [
      "Square\n",
      "Area of square = 49\n",
      "I am a two-dimensional shape\n",
      "Cube\n",
      "Area of cube = 216\n",
      "I am a three-dimensional shape\n",
      "Volume of cube = 216\n"
     ]
    }
   ],
   "source": [
    "from math import pi\n",
    "class Shape:\n",
    "    \n",
    "    def __init__(self, name):\n",
    "        self.name = name\n",
    "        \n",
    "    def area(self):\n",
    "        pass\n",
    "    \n",
    "    def fact(self):\n",
    "        return \"I am a two-dimensional shape\"\n",
    "    \n",
    "    def __str__(self):\n",
    "        return self.name\n",
    "    \n",
    "    \n",
    "class Circle(Shape):\n",
    "    \n",
    "    def __init__(self, radius):\n",
    "        super().__init__(\"Circle\")\n",
    "        self.radius = radius\n",
    "        \n",
    "    def area(self):\n",
    "        return pi*self.radius**2\n",
    "    \n",
    "class Square(Shape):\n",
    "    \n",
    "    def __init__(self, side):\n",
    "        super().__init__(\"Square\")\n",
    "        self.side = side\n",
    "        \n",
    "    def area(self):\n",
    "        return self.side*self.side\n",
    "    \n",
    "\n",
    "class Cube(Shape):\n",
    "    def __init__(self, side):\n",
    "        super().__init__(\"Cube\")\n",
    "        self.side = side\n",
    "    \n",
    "    def fact(self):\n",
    "        return \"I am a three-dimensional shape\"\n",
    "    \n",
    "    def area(self):\n",
    "        return (self.side * self.side)*6\n",
    "    \n",
    "    def volume(self):\n",
    "        return (self.side * self.side * self.side)\n",
    "        \n",
    "shape_square = Square(7)\n",
    "shape_cube = Cube(6)\n",
    "\n",
    "print(shape_square)\n",
    "print(\"Area of square =\",shape_square.area())\n",
    "print(shape_square.fact())\n",
    "\n",
    "print(shape_cube)\n",
    "print(\"Area of cube =\", shape_cube.area())\n",
    "print(shape_cube.fact())\n",
    "print(\"Volume of cube =\", shape_cube.volume())"
   ]
  },
  {
   "cell_type": "markdown",
   "id": "71969e73",
   "metadata": {},
   "source": [
    "### Main concept of Polymorphism\n",
    "- Overriding\n",
    "- Method-overriding cannot be done within a class\n",
    "- The method must have the same name as in the parent class\n",
    "- The method must have the same numer of parameters as in the parent class"
   ]
  },
  {
   "cell_type": "code",
   "execution_count": null,
   "id": "c4c96daa",
   "metadata": {},
   "outputs": [],
   "source": []
  }
 ],
 "metadata": {
  "kernelspec": {
   "display_name": "Python 3",
   "language": "python",
   "name": "python3"
  },
  "language_info": {
   "codemirror_mode": {
    "name": "ipython",
    "version": 3
   },
   "file_extension": ".py",
   "mimetype": "text/x-python",
   "name": "python",
   "nbconvert_exporter": "python",
   "pygments_lexer": "ipython3",
   "version": "3.8.8"
  }
 },
 "nbformat": 4,
 "nbformat_minor": 5
}
